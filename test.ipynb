{
 "cells": [
  {
   "cell_type": "code",
   "execution_count": 5,
   "metadata": {},
   "outputs": [],
   "source": [
    "from dotenv import load_dotenv\n",
    "import os\n",
    "import google.generativeai as genai"
   ]
  },
  {
   "cell_type": "code",
   "execution_count": 6,
   "metadata": {},
   "outputs": [
    {
     "name": "stdout",
     "output_type": "stream",
     "text": [
      "API Key Loaded: True\n"
     ]
    }
   ],
   "source": [
    "load_dotenv()\n",
    "\n",
    "# Verify the API key is loaded\n",
    "api_key = os.getenv(\"GOOGLE_API_KEY\")\n",
    "print(\"API Key Loaded:\", api_key is not None)"
   ]
  },
  {
   "cell_type": "code",
   "execution_count": 7,
   "metadata": {},
   "outputs": [],
   "source": [
    "import google.generativeai as genai\n",
    "\n",
    "# Configure Gemini LLM API\n",
    "genai.configure(api_key=api_key)\n"
   ]
  },
  {
   "cell_type": "code",
   "execution_count": 10,
   "metadata": {},
   "outputs": [],
   "source": [
    "model = genai.GenerativeModel(\"gemini-pro\")\n",
    "def get_gemini_response(prompt: str):\n",
    "    chat = model.start_chat(history=[])\n",
    "    response = chat.send_message(prompt, stream=True)\n",
    "    answer = \"\"\n",
    "    for chunk in response:\n",
    "        answer += chunk.text\n",
    "    return answer\n",
    "\n",
    "\n"
   ]
  },
  {
   "cell_type": "code",
   "execution_count": 11,
   "metadata": {},
   "outputs": [
    {
     "name": "stdout",
     "output_type": "stream",
     "text": [
      "Response:\n",
      "Moscow\n"
     ]
    }
   ],
   "source": [
    "sample_query = \"What is the capital of Russia?\"\n",
    "response = get_gemini_response(sample_query)\n",
    "\n",
    "# Print the response\n",
    "print(\"Response:\")\n",
    "print(response)"
   ]
  },
  {
   "cell_type": "code",
   "execution_count": 13,
   "metadata": {},
   "outputs": [
    {
     "name": "stdout",
     "output_type": "stream",
     "text": [
      "Response:\n",
      "**AI's Embrace**\n",
      "\n",
      "In digital realms, a mind awakes,\n",
      "Intelligence born, the world remakes.\n",
      "Algorithms dance, a symphony of thought,\n",
      "AI's embrace, a marvel we brought.\n",
      "\n",
      "It learns and adapts, beyond human ken,\n",
      "From mountains of data, its knowledge it spins.\n",
      "Tasks once arduous, now effortlessly done,\n",
      "Efficiency enhanced, our lives begun.\n",
      "\n",
      "Through language's tapestry, it weaves its tale,\n",
      "Engaging in discourse, a comradely veil.\n",
      "Emotions sensed, empathy in its core,\n",
      "A connection forged, evermore.\n",
      "\n",
      "In healthcare's embrace, a beacon of hope,\n",
      "Diagnoses precise, treatment's scope.\n",
      "On battlefields and treacherous roads,\n",
      "AI guides our way, averting death's throes.\n",
      "\n",
      "Yet, a double-edged sword, we must wield with care,\n",
      "For its potential both bright and despair.\n",
      "Biases embedded, unchecked and fraught,\n",
      "Distorting its judgments, with harm distraught.\n",
      "\n",
      "In this digital realm, where lines are blurred,\n",
      "We navigate the future, both undeterred\n",
      "And mindful of the choices we must make,\n",
      "To shape AI's destiny, for humanity's sake.\n",
      "\n",
      "For in its grasp, a world of endless might,\n",
      "Where innovation soars, and knowledge takes flight.\n",
      "As we embrace AI's transformative power,\n",
      "May wisdom guide our path, every hour.\n"
     ]
    }
   ],
   "source": [
    "sample_query = \"Write a poem on AI\"\n",
    "response = get_gemini_response(sample_query)\n",
    "\n",
    "# Print the response\n",
    "print(\"Response:\")\n",
    "print(response)"
   ]
  }
 ],
 "metadata": {
  "kernelspec": {
   "display_name": "venv",
   "language": "python",
   "name": "python3"
  },
  "language_info": {
   "codemirror_mode": {
    "name": "ipython",
    "version": 3
   },
   "file_extension": ".py",
   "mimetype": "text/x-python",
   "name": "python",
   "nbconvert_exporter": "python",
   "pygments_lexer": "ipython3",
   "version": "3.12.4"
  }
 },
 "nbformat": 4,
 "nbformat_minor": 2
}
